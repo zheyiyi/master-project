{
 "cells": [
  {
   "cell_type": "code",
   "execution_count": 1,
   "metadata": {},
   "outputs": [
    {
     "name": "stderr",
     "output_type": "stream",
     "text": [
      "Using TensorFlow backend.\n"
     ]
    }
   ],
   "source": [
    "import numpy as np \n",
    "import pandas as pd  \n",
    "import os, cv2\n",
    "from tqdm import tqdm\n",
    "from sklearn.model_selection import StratifiedShuffleSplit\n",
    "from sklearn.datasets import load_files\n",
    "from keras import optimizers\n",
    "from keras.models import Sequential, Model, load_model\n",
    "from keras.layers import Dense, Dropout, Flatten\n",
    "from keras.layers import Conv2D, MaxPooling2D, BatchNormalization\n",
    "from keras.callbacks import EarlyStopping, ModelCheckpoint, ReduceLROnPlateau\n",
    "from keras.preprocessing.image import ImageDataGenerator\n",
    "from sklearn.model_selection import train_test_split\n",
    "from keras.applications import *\n",
    "\n",
    "train_path = './train'\n",
    "validate_path = './val'\n",
    "test_path = './test'\n"
   ]
  },
  {
   "cell_type": "code",
   "execution_count": 2,
   "metadata": {},
   "outputs": [],
   "source": [
    "\n",
    "dim = 299\n",
    "epochs = 50\n",
    "learning_rate = 0.0001\n",
    "batch_size = 16\n",
    "\n",
    "train_num = 3790\n",
    "validation_num = 480\n"
   ]
  },
  {
   "cell_type": "code",
   "execution_count": 3,
   "metadata": {},
   "outputs": [],
   "source": [
    "\n",
    "weights = os.path.join('', 'weights.h5')\n",
    "\n",
    "datagen = ImageDataGenerator(horizontal_flip=True,\n",
    "                             vertical_flip=True,\n",
    "                             width_shift_range=0.1,\n",
    "                             height_shift_range=0.1)\n"
   ]
  },
  {
   "cell_type": "code",
   "execution_count": 4,
   "metadata": {},
   "outputs": [
    {
     "name": "stdout",
     "output_type": "stream",
     "text": [
      "Found 3790 images belonging to 12 classes.\n",
      "Found 480 images belonging to 12 classes.\n"
     ]
    }
   ],
   "source": [
    "train_generator = datagen.flow_from_directory(\n",
    "    train_path,\n",
    "    target_size=(dim, dim),\n",
    "    batch_size=batch_size,\n",
    "    class_mode='categorical')\n",
    "\n",
    "validate_generator = datagen.flow_from_directory(\n",
    "    validate_path,\n",
    "    target_size=(dim, dim),\n",
    "    batch_size=batch_size,\n",
    "    class_mode='categorical')"
   ]
  },
  {
   "cell_type": "code",
   "execution_count": 5,
   "metadata": {},
   "outputs": [],
   "source": [
    "\n",
    "callbacks = [EarlyStopping(monitor='val_loss', patience=5, verbose=0),\n",
    "             ModelCheckpoint(weights, monitor='val_loss', save_best_only=True, verbose=1),\n",
    "             ReduceLROnPlateau(monitor='loss', factor=0.1, patience=2, verbose=0, mode='auto', epsilon=0.0001,\n",
    "                               cooldown=0, min_lr=0)]"
   ]
  },
  {
   "cell_type": "code",
   "execution_count": 6,
   "metadata": {},
   "outputs": [],
   "source": [
    "\n",
    "base_model = Xception(input_shape=(dim, dim, 3), include_top=False, weights='imagenet', pooling='avg')\n",
    "x = base_model.output\n",
    "x = Dense(256, activation='relu')(x)\n",
    "x = Dropout(0.5)(x)\n",
    "predictions = Dense(12, activation='softmax')(x)\n",
    "model = Model(inputs=base_model.input, outputs=predictions)\n",
    "model.compile(loss='categorical_crossentropy', optimizer=optimizers.Adam(lr=learning_rate), metrics=['accuracy'])\n"
   ]
  },
  {
   "cell_type": "code",
   "execution_count": 7,
   "metadata": {},
   "outputs": [
    {
     "name": "stdout",
     "output_type": "stream",
     "text": [
      "Epoch 1/50\n",
      "236/236 [============================>.] - ETA: 1s - loss: 0.9027 - acc: 0.7312Epoch 00000: val_loss improved from inf to 0.34755, saving model to weights.h5\n",
      "237/236 [==============================] - 353s - loss: 0.9008 - acc: 0.7320 - val_loss: 0.3476 - val_acc: 0.8667\n",
      "Epoch 2/50\n",
      "236/236 [============================>.] - ETA: 1s - loss: 0.2400 - acc: 0.9213Epoch 00001: val_loss improved from 0.34755 to 0.18527, saving model to weights.h5\n",
      "237/236 [==============================] - 340s - loss: 0.2394 - acc: 0.9217 - val_loss: 0.1853 - val_acc: 0.9333\n",
      "Epoch 3/50\n",
      "236/236 [============================>.] - ETA: 1s - loss: 0.1489 - acc: 0.9518Epoch 00002: val_loss did not improve\n",
      "237/236 [==============================] - 337s - loss: 0.1488 - acc: 0.9517 - val_loss: 0.2331 - val_acc: 0.9187\n",
      "Epoch 4/50\n",
      "236/236 [============================>.] - ETA: 1s - loss: 0.1237 - acc: 0.9616Epoch 00003: val_loss improved from 0.18527 to 0.16192, saving model to weights.h5\n",
      "237/236 [==============================] - 339s - loss: 0.1237 - acc: 0.9618 - val_loss: 0.1619 - val_acc: 0.9500\n",
      "Epoch 5/50\n",
      "236/236 [============================>.] - ETA: 1s - loss: 0.0963 - acc: 0.9706Epoch 00004: val_loss did not improve\n",
      "237/236 [==============================] - 337s - loss: 0.0965 - acc: 0.9704 - val_loss: 0.1710 - val_acc: 0.9500\n",
      "Epoch 6/50\n",
      "236/236 [============================>.] - ETA: 1s - loss: 0.0817 - acc: 0.9756Epoch 00005: val_loss improved from 0.16192 to 0.14464, saving model to weights.h5\n",
      "237/236 [==============================] - 340s - loss: 0.0827 - acc: 0.9751 - val_loss: 0.1446 - val_acc: 0.9521\n",
      "Epoch 7/50\n",
      "236/236 [============================>.] - ETA: 1s - loss: 0.0707 - acc: 0.9809Epoch 00006: val_loss did not improve\n",
      "237/236 [==============================] - 338s - loss: 0.0706 - acc: 0.9810 - val_loss: 0.1804 - val_acc: 0.9458\n",
      "Epoch 8/50\n",
      "236/236 [============================>.] - ETA: 1s - loss: 0.0572 - acc: 0.9833Epoch 00007: val_loss did not improve\n",
      "237/236 [==============================] - 337s - loss: 0.0570 - acc: 0.9834 - val_loss: 0.1852 - val_acc: 0.9437\n",
      "Epoch 9/50\n",
      "236/236 [============================>.] - ETA: 1s - loss: 0.0510 - acc: 0.9844Epoch 00008: val_loss did not improve\n",
      "237/236 [==============================] - 337s - loss: 0.0510 - acc: 0.9844 - val_loss: 0.2413 - val_acc: 0.9396\n",
      "Epoch 10/50\n",
      "236/236 [============================>.] - ETA: 1s - loss: 0.0379 - acc: 0.9889Epoch 00009: val_loss did not improve\n",
      "237/236 [==============================] - 337s - loss: 0.0390 - acc: 0.9883 - val_loss: 0.1539 - val_acc: 0.9667\n",
      "Epoch 11/50\n",
      "236/236 [============================>.] - ETA: 1s - loss: 0.0368 - acc: 0.9889Epoch 00010: val_loss improved from 0.14464 to 0.14384, saving model to weights.h5\n",
      "237/236 [==============================] - 340s - loss: 0.0367 - acc: 0.9889 - val_loss: 0.1438 - val_acc: 0.9604\n",
      "Epoch 12/50\n",
      "236/236 [============================>.] - ETA: 1s - loss: 0.0262 - acc: 0.9915Epoch 00011: val_loss did not improve\n",
      "237/236 [==============================] - 337s - loss: 0.0261 - acc: 0.9916 - val_loss: 0.1661 - val_acc: 0.9563\n",
      "Epoch 13/50\n",
      "236/236 [============================>.] - ETA: 1s - loss: 0.0311 - acc: 0.9915Epoch 00012: val_loss did not improve\n",
      "237/236 [==============================] - 337s - loss: 0.0310 - acc: 0.9916 - val_loss: 0.1687 - val_acc: 0.9521\n",
      "Epoch 14/50\n",
      "236/236 [============================>.] - ETA: 1s - loss: 0.0183 - acc: 0.9955Epoch 00013: val_loss improved from 0.14384 to 0.14121, saving model to weights.h5\n",
      "237/236 [==============================] - 340s - loss: 0.0183 - acc: 0.9955 - val_loss: 0.1412 - val_acc: 0.9563\n",
      "Epoch 15/50\n",
      "236/236 [============================>.] - ETA: 1s - loss: 0.0361 - acc: 0.9905Epoch 00014: val_loss did not improve\n",
      "237/236 [==============================] - 337s - loss: 0.0360 - acc: 0.9905 - val_loss: 0.1745 - val_acc: 0.9542\n",
      "Epoch 16/50\n",
      "236/236 [============================>.] - ETA: 1s - loss: 0.0324 - acc: 0.9907Epoch 00015: val_loss improved from 0.14121 to 0.10402, saving model to weights.h5\n",
      "237/236 [==============================] - 339s - loss: 0.0322 - acc: 0.9908 - val_loss: 0.1040 - val_acc: 0.9604\n",
      "Epoch 17/50\n",
      "236/236 [============================>.] - ETA: 1s - loss: 0.0455 - acc: 0.9873Epoch 00016: val_loss did not improve\n",
      "237/236 [==============================] - 337s - loss: 0.0454 - acc: 0.9873 - val_loss: 0.1483 - val_acc: 0.9542\n",
      "Epoch 18/50\n",
      "236/236 [============================>.] - ETA: 1s - loss: 0.0184 - acc: 0.9947Epoch 00017: val_loss improved from 0.10402 to 0.10073, saving model to weights.h5\n",
      "237/236 [==============================] - 339s - loss: 0.0183 - acc: 0.9947 - val_loss: 0.1007 - val_acc: 0.9646\n",
      "Epoch 19/50\n",
      "236/236 [============================>.] - ETA: 1s - loss: 0.0101 - acc: 0.9979Epoch 00018: val_loss did not improve\n",
      "237/236 [==============================] - 337s - loss: 0.0100 - acc: 0.9979 - val_loss: 0.1110 - val_acc: 0.9583\n",
      "Epoch 20/50\n",
      "236/236 [============================>.] - ETA: 1s - loss: 0.0083 - acc: 0.9976Epoch 00019: val_loss improved from 0.10073 to 0.09331, saving model to weights.h5\n",
      "237/236 [==============================] - 340s - loss: 0.0083 - acc: 0.9976 - val_loss: 0.0933 - val_acc: 0.9604\n",
      "Epoch 21/50\n",
      "236/236 [============================>.] - ETA: 1s - loss: 0.0082 - acc: 0.9971Epoch 00020: val_loss improved from 0.09331 to 0.09290, saving model to weights.h5\n",
      "237/236 [==============================] - 340s - loss: 0.0082 - acc: 0.9971 - val_loss: 0.0929 - val_acc: 0.9708\n",
      "Epoch 22/50\n",
      "236/236 [============================>.] - ETA: 1s - loss: 0.0052 - acc: 0.9989Epoch 00021: val_loss did not improve\n",
      "237/236 [==============================] - 338s - loss: 0.0051 - acc: 0.9989 - val_loss: 0.1001 - val_acc: 0.9667\n",
      "Epoch 23/50\n",
      "236/236 [============================>.] - ETA: 1s - loss: 0.0041 - acc: 0.9989Epoch 00022: val_loss did not improve\n",
      "237/236 [==============================] - 338s - loss: 0.0041 - acc: 0.9989 - val_loss: 0.1114 - val_acc: 0.9646\n",
      "Epoch 24/50\n",
      "236/236 [============================>.] - ETA: 1s - loss: 0.0047 - acc: 0.9987Epoch 00023: val_loss did not improve\n",
      "237/236 [==============================] - 338s - loss: 0.0048 - acc: 0.9987 - val_loss: 0.1260 - val_acc: 0.9583\n",
      "Epoch 25/50\n",
      "236/236 [============================>.] - ETA: 1s - loss: 0.0077 - acc: 0.9971Epoch 00024: val_loss did not improve\n",
      "237/236 [==============================] - 337s - loss: 0.0077 - acc: 0.9971 - val_loss: 0.1418 - val_acc: 0.9625\n",
      "Epoch 26/50\n",
      "236/236 [============================>.] - ETA: 1s - loss: 0.0054 - acc: 0.9984Epoch 00025: val_loss did not improve\n",
      "237/236 [==============================] - 337s - loss: 0.0054 - acc: 0.9984 - val_loss: 0.1016 - val_acc: 0.9708\n",
      "Epoch 27/50\n",
      "236/236 [============================>.] - ETA: 1s - loss: 0.0021 - acc: 1.0000Epoch 00026: val_loss did not improve\n",
      "237/236 [==============================] - 337s - loss: 0.0021 - acc: 1.0000 - val_loss: 0.1100 - val_acc: 0.9646\n"
     ]
    },
    {
     "data": {
      "text/plain": [
       "<keras.callbacks.History at 0x7f5b12184438>"
      ]
     },
     "execution_count": 7,
     "metadata": {},
     "output_type": "execute_result"
    }
   ],
   "source": [
    "\n",
    "model.fit_generator(train_generator,\n",
    "                    steps_per_epoch=train_num / batch_size,\n",
    "                    validation_data=validate_generator,\n",
    "                    validation_steps=validation_num/ batch_size,\n",
    "                    callbacks=callbacks,\n",
    "                    epochs=epochs,\n",
    "                    verbose=1)"
   ]
  },
  {
   "cell_type": "code",
   "execution_count": 51,
   "metadata": {},
   "outputs": [
    {
     "name": "stdout",
     "output_type": "stream",
     "text": [
      "[ 0  3  3  6  4  3  9 10  2  0  8  2 11  8  6  5  1  2  7  8 11  2  6  0  9\n",
      "  7  5 11 10  8 10  0 10  8  9  4  7  6  7  9  0  1 11 10  3  0  8  6  6  4\n",
      "  4  5  7  3  5  2  5  8  8  7 11 11  7 10  4  5  7  1 10  8  3  1 11  5  6\n",
      "  7 11  1  4  1  4  1  9  0  2 10  5  7  0  9  0 10 10  2 11  4  9  6  5  5\n",
      "  5  6  1  7  9 11  9 11  1  6  1  3  1  4  4 11  4  3  5 11 11 10  9  3  3\n",
      "  1  7  1  1  0  6  0  7  0  5  3 10  3  0  1  0  7  0  7  8  1  4  8  2  8\n",
      "  8  3 11 10 11  8 11  7  6  1  5  8 10  2  7  1 11 10 10  6  2  9  2  7  7\n",
      "  6  2  0  3  3  3  7 11  5  5  9  1  7  5  3  2  9  0  9  0  3  8  6  0  2\n",
      "  5  2  6  7  4  5  2  4 10  3  6  2  9  7  7  3  4  8  6  3 10  5  9  9  8\n",
      "  3  0 11  4  0  1  2  2  1  4  4  4  7  8 11 10  8  2  9  5  1 10  6 10  1\n",
      "  3 11  0  9  0  4  8  8 10  5  0 11  7  3  9  9  3  5  2  8 10  8  5  9  4\n",
      "  5  5  5  6  1  0  5  5  3  2  4 10  9  1  6  8  1 10 11  0  7  9 11  5  4\n",
      "  2 11 11  2  3  3  0  8  2  9  3  5  6  8  9  6  9  0  7  6  5 10  0 11  3\n",
      "  7  7  1  4  9 11  6  7 10  4 11  2  7  6  0  9  2  6  0 11  1  1  6  1  5\n",
      "  9  9 10  3  5  1  9  3  4  0  1  0  5 10  2  8  7 11  4  6  2 11  2 10  4\n",
      "  1  7  1  8  9  5  6  5  3  3  8  4  8  3 10 11  6  8  5  2  3 10 11 10  9\n",
      "  2  2  6  2  8  7  1  8  6  9 10  1  2  9 11  6 10  0  9  1 10  3  7  0  4\n",
      "  9  4  3  6  5  0  0  3  4 11  7 10  9 10  3  7 11  4  2  8 10  8  4  6  2\n",
      " 10  6  1  8  0  4  8 11  4 11  0  4  7  9  2  1  2  7  6  6  5  0  8  4  6\n",
      "  8  4  2  1  4]\n",
      "Found 480 images belonging to 12 classes.\n"
     ]
    }
   ],
   "source": [
    "\n",
    "\n",
    "data_test = load_files(test_path)\n",
    "test_label = np.array(data_test['target'])\n",
    "print(np.array(data_test['target']))\n",
    "\n",
    "\n",
    "weights = os.path.join('', 'weights.h5')\n",
    "test_datagen = ImageDataGenerator()       \n",
    "generator_test = test_datagen.flow_from_directory(\n",
    "                                            test_path,\n",
    "                                            target_size=(dim, dim),\n",
    "                                            batch_size=batch_size,\n",
    "                                            class_mode=None, \n",
    "                                            shuffle=False) \n",
    "\n",
    "    "
   ]
  },
  {
   "cell_type": "code",
   "execution_count": 52,
   "metadata": {},
   "outputs": [
    {
     "name": "stdout",
     "output_type": "stream",
     "text": [
      "480\n",
      "30/30 [==============================] - 13s    \n"
     ]
    }
   ],
   "source": [
    "\n",
    "filenames = generator_test.filenames\n",
    "nb_samples = len(filenames)\n",
    "print(nb_samples)\n",
    "prediction_test = model.predict_generator(generator_test, verbose=1,steps =30)"
   ]
  },
  {
   "cell_type": "code",
   "execution_count": 55,
   "metadata": {},
   "outputs": [
    {
     "name": "stdout",
     "output_type": "stream",
     "text": [
      "done\n"
     ]
    }
   ],
   "source": [
    "print(\"done\")\n",
    "\n"
   ]
  },
  {
   "cell_type": "code",
   "execution_count": 56,
   "metadata": {},
   "outputs": [
    {
     "name": "stdout",
     "output_type": "stream",
     "text": [
      "480\n",
      "480\n",
      "0.9645833333333333\n"
     ]
    }
   ],
   "source": [
    "\n",
    "prediction_list = []\n",
    "for i in range(len(prediction_test)):\n",
    "    result = np.argmax(prediction_test[i])\n",
    "    prediction_list.append(result)\n",
    "\n",
    "count = 0\n",
    "\n",
    "for i in range(len(prediction_list)):\n",
    "    if prediction_list[i] == generator_test.classes[i]:\n",
    "        \n",
    "        count += 1\n",
    "print(count/480)"
   ]
  },
  {
   "cell_type": "code",
   "execution_count": null,
   "metadata": {},
   "outputs": [],
   "source": []
  },
  {
   "cell_type": "code",
   "execution_count": null,
   "metadata": {},
   "outputs": [],
   "source": []
  },
  {
   "cell_type": "code",
   "execution_count": null,
   "metadata": {},
   "outputs": [],
   "source": []
  },
  {
   "cell_type": "code",
   "execution_count": null,
   "metadata": {},
   "outputs": [],
   "source": []
  },
  {
   "cell_type": "code",
   "execution_count": null,
   "metadata": {},
   "outputs": [],
   "source": []
  }
 ],
 "metadata": {
  "kernelspec": {
   "display_name": "Python 3",
   "language": "python",
   "name": "python3"
  },
  "language_info": {
   "codemirror_mode": {
    "name": "ipython",
    "version": 3
   },
   "file_extension": ".py",
   "mimetype": "text/x-python",
   "name": "python",
   "nbconvert_exporter": "python",
   "pygments_lexer": "ipython3",
   "version": "3.5.2"
  }
 },
 "nbformat": 4,
 "nbformat_minor": 2
}
