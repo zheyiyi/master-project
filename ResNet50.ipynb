{
 "cells": [
  {
   "cell_type": "code",
   "execution_count": 1,
   "metadata": {},
   "outputs": [
    {
     "name": "stderr",
     "output_type": "stream",
     "text": [
      "Using TensorFlow backend.\n"
     ]
    }
   ],
   "source": [
    "import numpy as np  # linear algebra\n",
    "import pandas as pd  # data processing, CSV file I/O (e.g. pd.read_csv)\n",
    "import os, cv2\n",
    "from tqdm import tqdm\n",
    "from sklearn.model_selection import StratifiedShuffleSplit\n",
    "from sklearn.datasets import load_files\n",
    "from keras import optimizers\n",
    "from keras.models import Sequential, Model, load_model\n",
    "from keras.layers import Dense, Dropout, Flatten\n",
    "from keras.layers import Conv2D, MaxPooling2D, BatchNormalization\n",
    "from keras.callbacks import EarlyStopping, ModelCheckpoint, ReduceLROnPlateau\n",
    "from keras.preprocessing.image import ImageDataGenerator\n",
    "from sklearn.model_selection import train_test_split\n",
    "from keras.applications import *\n",
    "\n",
    "train_path = './train'\n",
    "validate_path = './val'\n",
    "test_path = './test'\n"
   ]
  },
  {
   "cell_type": "code",
   "execution_count": 2,
   "metadata": {},
   "outputs": [],
   "source": [
    "dim = 299\n",
    "epochs = 50\n",
    "learning_rate = 0.0001\n",
    "batch_size = 16\n",
    "\n",
    "train_num = 3790\n",
    "validation_num = 480\n"
   ]
  },
  {
   "cell_type": "code",
   "execution_count": 3,
   "metadata": {},
   "outputs": [],
   "source": [
    "\n",
    "weights = os.path.join('', 'weights_resnet.h5')\n",
    "\n",
    "datagen = ImageDataGenerator(horizontal_flip=True,\n",
    "                             vertical_flip=True,\n",
    "                             width_shift_range=0.1,\n",
    "                             height_shift_range=0.1)\n"
   ]
  },
  {
   "cell_type": "code",
   "execution_count": 4,
   "metadata": {},
   "outputs": [
    {
     "name": "stdout",
     "output_type": "stream",
     "text": [
      "Found 3790 images belonging to 12 classes.\n",
      "Found 480 images belonging to 12 classes.\n"
     ]
    }
   ],
   "source": [
    "train_generator = datagen.flow_from_directory(\n",
    "    train_path,\n",
    "    target_size=(dim, dim),\n",
    "    batch_size=batch_size,\n",
    "    class_mode='categorical')\n",
    "\n",
    "validate_generator = datagen.flow_from_directory(\n",
    "    validate_path,\n",
    "    target_size=(dim, dim),\n",
    "    batch_size=batch_size,\n",
    "    class_mode='categorical')"
   ]
  },
  {
   "cell_type": "code",
   "execution_count": 5,
   "metadata": {},
   "outputs": [],
   "source": [
    "\n",
    "callbacks = [EarlyStopping(monitor='val_loss', patience=5, verbose=0),\n",
    "             ModelCheckpoint(weights, monitor='val_loss', save_best_only=True, verbose=1),\n",
    "             ReduceLROnPlateau(monitor='loss', factor=0.1, patience=2, verbose=0, mode='auto', epsilon=0.0001,\n",
    "                               cooldown=0, min_lr=0)]"
   ]
  },
  {
   "cell_type": "code",
   "execution_count": 6,
   "metadata": {},
   "outputs": [],
   "source": [
    "\n",
    "base_model = ResNet50(input_shape=(dim, dim, 3), include_top=False, weights='imagenet', pooling='avg')\n",
    "x = base_model.output\n",
    "x = Dense(256, activation='relu')(x)\n",
    "x = Dropout(0.5)(x)\n",
    "predictions = Dense(12, activation='softmax')(x)\n",
    "model = Model(inputs=base_model.input, outputs=predictions)\n",
    "model.compile(loss='categorical_crossentropy', optimizer=optimizers.Adam(lr=learning_rate), metrics=['accuracy'])\n"
   ]
  },
  {
   "cell_type": "code",
   "execution_count": 7,
   "metadata": {},
   "outputs": [
    {
     "name": "stdout",
     "output_type": "stream",
     "text": [
      "Epoch 1/50\n",
      "236/236 [============================>.] - ETA: 0s - loss: 0.8948 - acc: 0.7240Epoch 00000: val_loss improved from inf to 0.60722, saving model to weights_resnet.h5\n",
      "237/236 [==============================] - 273s - loss: 0.8925 - acc: 0.7246 - val_loss: 0.6072 - val_acc: 0.8042\n",
      "Epoch 2/50\n",
      "236/236 [============================>.] - ETA: 0s - loss: 0.3421 - acc: 0.8843Epoch 00001: val_loss improved from 0.60722 to 0.30986, saving model to weights_resnet.h5\n",
      "237/236 [==============================] - 260s - loss: 0.3434 - acc: 0.8836 - val_loss: 0.3099 - val_acc: 0.8708\n",
      "Epoch 3/50\n",
      "236/236 [============================>.] - ETA: 0s - loss: 0.2673 - acc: 0.9113Epoch 00002: val_loss did not improve\n",
      "237/236 [==============================] - 257s - loss: 0.2668 - acc: 0.9117 - val_loss: 0.3361 - val_acc: 0.8896\n",
      "Epoch 4/50\n",
      "236/236 [============================>.] - ETA: 0s - loss: 0.2142 - acc: 0.9285Epoch 00003: val_loss improved from 0.30986 to 0.29572, saving model to weights_resnet.h5\n",
      "237/236 [==============================] - 260s - loss: 0.2137 - acc: 0.9285 - val_loss: 0.2957 - val_acc: 0.9042\n",
      "Epoch 5/50\n",
      "236/236 [============================>.] - ETA: 0s - loss: 0.1897 - acc: 0.9441Epoch 00004: val_loss improved from 0.29572 to 0.26417, saving model to weights_resnet.h5\n",
      "237/236 [==============================] - 260s - loss: 0.1889 - acc: 0.9444 - val_loss: 0.2642 - val_acc: 0.9083\n",
      "Epoch 6/50\n",
      "236/236 [============================>.] - ETA: 0s - loss: 0.1605 - acc: 0.9507Epoch 00005: val_loss did not improve\n",
      "237/236 [==============================] - 257s - loss: 0.1599 - acc: 0.9509 - val_loss: 0.3262 - val_acc: 0.9000\n",
      "Epoch 7/50\n",
      "236/236 [============================>.] - ETA: 0s - loss: 0.1644 - acc: 0.9484Epoch 00006: val_loss did not improve\n",
      "237/236 [==============================] - 256s - loss: 0.1656 - acc: 0.9483 - val_loss: 0.6047 - val_acc: 0.8562\n",
      "Epoch 8/50\n",
      "236/236 [============================>.] - ETA: 0s - loss: 0.1380 - acc: 0.9558Epoch 00007: val_loss improved from 0.26417 to 0.24259, saving model to weights_resnet.h5\n",
      "237/236 [==============================] - 260s - loss: 0.1377 - acc: 0.9560 - val_loss: 0.2426 - val_acc: 0.9229\n",
      "Epoch 9/50\n",
      "236/236 [============================>.] - ETA: 0s - loss: 0.1199 - acc: 0.9627Epoch 00008: val_loss improved from 0.24259 to 0.20468, saving model to weights_resnet.h5\n",
      "237/236 [==============================] - 260s - loss: 0.1221 - acc: 0.9622 - val_loss: 0.2047 - val_acc: 0.9313\n",
      "Epoch 10/50\n",
      "236/236 [============================>.] - ETA: 0s - loss: 0.1042 - acc: 0.9677Epoch 00009: val_loss did not improve\n",
      "237/236 [==============================] - 257s - loss: 0.1046 - acc: 0.9675 - val_loss: 0.2915 - val_acc: 0.9271\n",
      "Epoch 11/50\n",
      "236/236 [============================>.] - ETA: 0s - loss: 0.1091 - acc: 0.9637Epoch 00010: val_loss did not improve\n",
      "237/236 [==============================] - 257s - loss: 0.1088 - acc: 0.9639 - val_loss: 0.3287 - val_acc: 0.9083\n",
      "Epoch 12/50\n",
      "236/236 [============================>.] - ETA: 0s - loss: 0.0981 - acc: 0.9714Epoch 00011: val_loss improved from 0.20468 to 0.20400, saving model to weights_resnet.h5\n",
      "237/236 [==============================] - 260s - loss: 0.0978 - acc: 0.9715 - val_loss: 0.2040 - val_acc: 0.9313\n",
      "Epoch 13/50\n",
      "236/236 [============================>.] - ETA: 0s - loss: 0.0790 - acc: 0.9772Epoch 00012: val_loss did not improve\n",
      "237/236 [==============================] - 256s - loss: 0.0787 - acc: 0.9773 - val_loss: 0.3975 - val_acc: 0.9167\n",
      "Epoch 14/50\n",
      "236/236 [============================>.] - ETA: 0s - loss: 0.1167 - acc: 0.9640Epoch 00013: val_loss did not improve\n",
      "237/236 [==============================] - 257s - loss: 0.1162 - acc: 0.9641 - val_loss: 0.2594 - val_acc: 0.9167\n",
      "Epoch 15/50\n",
      "236/236 [============================>.] - ETA: 0s - loss: 0.0865 - acc: 0.9722Epoch 00014: val_loss did not improve\n",
      "237/236 [==============================] - 257s - loss: 0.0862 - acc: 0.9723 - val_loss: 0.2645 - val_acc: 0.9271\n",
      "Epoch 16/50\n",
      "236/236 [============================>.] - ETA: 0s - loss: 0.0999 - acc: 0.9688Epoch 00015: val_loss did not improve\n",
      "237/236 [==============================] - 257s - loss: 0.0996 - acc: 0.9689 - val_loss: 0.2391 - val_acc: 0.9417\n",
      "Epoch 17/50\n",
      "236/236 [============================>.] - ETA: 0s - loss: 0.0570 - acc: 0.9828Epoch 00016: val_loss improved from 0.20400 to 0.18704, saving model to weights_resnet.h5\n",
      "237/236 [==============================] - 260s - loss: 0.0568 - acc: 0.9829 - val_loss: 0.1870 - val_acc: 0.9542\n",
      "Epoch 18/50\n",
      "236/236 [============================>.] - ETA: 0s - loss: 0.0369 - acc: 0.9902Epoch 00017: val_loss improved from 0.18704 to 0.14931, saving model to weights_resnet.h5\n",
      "237/236 [==============================] - 260s - loss: 0.0368 - acc: 0.9902 - val_loss: 0.1493 - val_acc: 0.9542\n",
      "Epoch 19/50\n",
      "236/236 [============================>.] - ETA: 0s - loss: 0.0311 - acc: 0.9913Epoch 00018: val_loss did not improve\n",
      "237/236 [==============================] - 258s - loss: 0.0309 - acc: 0.9913 - val_loss: 0.1897 - val_acc: 0.9563\n",
      "Epoch 20/50\n",
      "236/236 [============================>.] - ETA: 0s - loss: 0.0291 - acc: 0.9905Epoch 00019: val_loss improved from 0.14931 to 0.13043, saving model to weights_resnet.h5\n",
      "237/236 [==============================] - 260s - loss: 0.0290 - acc: 0.9905 - val_loss: 0.1304 - val_acc: 0.9583\n",
      "Epoch 21/50\n",
      "236/236 [============================>.] - ETA: 0s - loss: 0.0208 - acc: 0.9936Epoch 00020: val_loss did not improve\n",
      "237/236 [==============================] - 257s - loss: 0.0213 - acc: 0.9934 - val_loss: 0.2289 - val_acc: 0.9542\n",
      "Epoch 22/50\n",
      "236/236 [============================>.] - ETA: 0s - loss: 0.0161 - acc: 0.9960Epoch 00021: val_loss did not improve\n",
      "237/236 [==============================] - 256s - loss: 0.0161 - acc: 0.9960 - val_loss: 0.2025 - val_acc: 0.9563\n",
      "Epoch 23/50\n",
      "236/236 [============================>.] - ETA: 0s - loss: 0.0132 - acc: 0.9971Epoch 00022: val_loss did not improve\n",
      "237/236 [==============================] - 256s - loss: 0.0132 - acc: 0.9971 - val_loss: 0.2103 - val_acc: 0.9542\n",
      "Epoch 24/50\n",
      "236/236 [============================>.] - ETA: 0s - loss: 0.0132 - acc: 0.9963Epoch 00023: val_loss did not improve\n",
      "237/236 [==============================] - 256s - loss: 0.0132 - acc: 0.9963 - val_loss: 0.2510 - val_acc: 0.9563\n",
      "Epoch 25/50\n",
      "236/236 [============================>.] - ETA: 0s - loss: 0.0135 - acc: 0.9963Epoch 00024: val_loss did not improve\n",
      "237/236 [==============================] - 257s - loss: 0.0138 - acc: 0.9960 - val_loss: 0.2346 - val_acc: 0.9521\n",
      "Epoch 26/50\n",
      "236/236 [============================>.] - ETA: 0s - loss: 0.0128 - acc: 0.9958Epoch 00025: val_loss did not improve\n",
      "237/236 [==============================] - 258s - loss: 0.0127 - acc: 0.9958 - val_loss: 0.2187 - val_acc: 0.9583\n"
     ]
    },
    {
     "data": {
      "text/plain": [
       "<keras.callbacks.History at 0x7f4753cc36d8>"
      ]
     },
     "execution_count": 7,
     "metadata": {},
     "output_type": "execute_result"
    }
   ],
   "source": [
    "\n",
    "model.fit_generator(train_generator,\n",
    "                    steps_per_epoch=train_num / batch_size,\n",
    "                    validation_data=validate_generator,\n",
    "                    validation_steps=validation_num / batch_size,\n",
    "                    callbacks=callbacks,\n",
    "                    epochs=epochs,\n",
    "                    verbose=1)"
   ]
  },
  {
   "cell_type": "code",
   "execution_count": null,
   "metadata": {},
   "outputs": [],
   "source": []
  },
  {
   "cell_type": "code",
   "execution_count": null,
   "metadata": {},
   "outputs": [],
   "source": []
  },
  {
   "cell_type": "code",
   "execution_count": null,
   "metadata": {},
   "outputs": [],
   "source": []
  },
  {
   "cell_type": "code",
   "execution_count": null,
   "metadata": {},
   "outputs": [],
   "source": []
  },
  {
   "cell_type": "code",
   "execution_count": 14,
   "metadata": {},
   "outputs": [
    {
     "name": "stdout",
     "output_type": "stream",
     "text": [
      "Found 480 images belonging to 12 classes.\n"
     ]
    }
   ],
   "source": [
    "\n",
    "test_datagen = ImageDataGenerator()      \n",
    "generator_test = test_datagen.flow_from_directory(\n",
    "test_path,\n",
    "target_size=(dim, dim),\n",
    "batch_size=batch_size,\n",
    "class_mode=None,  \n",
    "shuffle=False)  "
   ]
  },
  {
   "cell_type": "code",
   "execution_count": 15,
   "metadata": {},
   "outputs": [
    {
     "name": "stdout",
     "output_type": "stream",
     "text": [
      "30/30 [==============================] - 11s    \n"
     ]
    }
   ],
   "source": [
    "\n",
    "prediction_test = model.predict_generator(generator_test, verbose=1,steps =30)"
   ]
  },
  {
   "cell_type": "code",
   "execution_count": 16,
   "metadata": {},
   "outputs": [
    {
     "name": "stdout",
     "output_type": "stream",
     "text": [
      "done\n"
     ]
    }
   ],
   "source": [
    "print(\"done\")"
   ]
  },
  {
   "cell_type": "code",
   "execution_count": 17,
   "metadata": {},
   "outputs": [
    {
     "name": "stdout",
     "output_type": "stream",
     "text": [
      "480\n",
      "480\n",
      "0.9479166666666666\n"
     ]
    }
   ],
   "source": [
    "prediction_list = []\n",
    "for i in range(len(prediction_test)):\n",
    "    result = np.argmax(prediction_test[i])\n",
    "    prediction_list.append(result)\n",
    "\n",
    "count = 0\n",
    "\n",
    "for i in range(len(prediction_list)):\n",
    "    if prediction_list[i] == generator_test.classes[i]:\n",
    "        \n",
    "        count += 1\n",
    "print(count/480)"
   ]
  },
  {
   "cell_type": "code",
   "execution_count": null,
   "metadata": {},
   "outputs": [],
   "source": []
  }
 ],
 "metadata": {
  "kernelspec": {
   "display_name": "Python 3",
   "language": "python",
   "name": "python3"
  },
  "language_info": {
   "codemirror_mode": {
    "name": "ipython",
    "version": 3
   },
   "file_extension": ".py",
   "mimetype": "text/x-python",
   "name": "python",
   "nbconvert_exporter": "python",
   "pygments_lexer": "ipython3",
   "version": "3.5.2"
  }
 },
 "nbformat": 4,
 "nbformat_minor": 2
}
