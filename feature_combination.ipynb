{
 "cells": [
  {
   "cell_type": "code",
   "execution_count": 1,
   "metadata": {},
   "outputs": [
    {
     "name": "stderr",
     "output_type": "stream",
     "text": [
      "/usr/lib/python3.5/importlib/_bootstrap.py:222: RuntimeWarning: numpy.dtype size changed, may indicate binary incompatibility. Expected 96, got 88\n",
      "  return f(*args, **kwds)\n",
      "/usr/lib/python3.5/importlib/_bootstrap.py:222: RuntimeWarning: numpy.dtype size changed, may indicate binary incompatibility. Expected 96, got 88\n",
      "  return f(*args, **kwds)\n",
      "/usr/lib/python3.5/importlib/_bootstrap.py:222: RuntimeWarning: numpy.dtype size changed, may indicate binary incompatibility. Expected 96, got 88\n",
      "  return f(*args, **kwds)\n",
      "/usr/lib/python3.5/importlib/_bootstrap.py:222: RuntimeWarning: numpy.dtype size changed, may indicate binary incompatibility. Expected 96, got 88\n",
      "  return f(*args, **kwds)\n",
      "/usr/lib/python3.5/importlib/_bootstrap.py:222: RuntimeWarning: numpy.dtype size changed, may indicate binary incompatibility. Expected 96, got 88\n",
      "  return f(*args, **kwds)\n",
      "Using TensorFlow backend.\n",
      "/usr/lib/python3.5/importlib/_bootstrap.py:222: RuntimeWarning: numpy.dtype size changed, may indicate binary incompatibility. Expected 96, got 88\n",
      "  return f(*args, **kwds)\n"
     ]
    }
   ],
   "source": [
    "import numpy as np  # linear algebra\n",
    "import pandas as pd  # data processing, CSV file I/O (e.g. pd.read_csv)\n",
    "import os, cv2\n",
    "from tqdm import tqdm\n",
    "from sklearn.model_selection import StratifiedShuffleSplit\n",
    "from sklearn.datasets import load_files\n",
    "from keras import optimizers\n",
    "from keras.models import Sequential, Model, load_model\n",
    "from keras.layers import Dense, Dropout, Flatten\n",
    "from keras.layers import Conv2D, MaxPooling2D, BatchNormalization\n",
    "from keras.callbacks import EarlyStopping, ModelCheckpoint, ReduceLROnPlateau\n",
    "from keras.preprocessing.image import ImageDataGenerator\n",
    "from sklearn.model_selection import train_test_split\n",
    "from keras.applications import *\n",
    "\n",
    "train_path = './train'\n",
    "validate_path = './val'\n",
    "test_path = './test'"
   ]
  },
  {
   "cell_type": "code",
   "execution_count": 2,
   "metadata": {},
   "outputs": [],
   "source": [
    "\n",
    "dim = 299\n",
    "epochs = 50\n",
    "learning_rate = 0.0001\n",
    "batch_size = 16\n",
    "# Train/validation split\n",
    "train_number = 3790\n",
    "validation_number = 480"
   ]
  },
  {
   "cell_type": "code",
   "execution_count": 3,
   "metadata": {},
   "outputs": [],
   "source": [
    "def create_generator(data_path, dim, batch_size):\n",
    "    new_datagen = ImageDataGenerator()  \n",
    "    new_generator = new_datagen.flow_from_directory(\n",
    "                                    data_path,\n",
    "                                    target_size=(dim, dim),\n",
    "                                    batch_size=batch_size,\n",
    "                                    class_mode=None, \n",
    "                                    shuffle=False)\n",
    "    \n",
    "   \n",
    "    return new_generator\n"
   ]
  },
  {
   "cell_type": "code",
   "execution_count": 4,
   "metadata": {},
   "outputs": [],
   "source": [
    "#Get Xception bottleneck"
   ]
  },
  {
   "cell_type": "code",
   "execution_count": 5,
   "metadata": {},
   "outputs": [],
   "source": [
    "def get_bottleneck_xception(train_path, validate_path, test_path, dim, batch_size):\n",
    "    train_generator = create_generator(train_path, dim, batch_size)\n",
    "    validate_generator = create_generator(validate_path, dim, batch_size)\n",
    "    test_generator = create_generator(test_path, dim, batch_size)\n",
    "\n",
    "    base_model = Xception(input_shape=(dim, dim, 3), include_top=False, weights='imagenet', pooling='avg')\n",
    "    x = base_model.output\n",
    "    x = Dense(256, activation='relu')(x)\n",
    "    x = Dropout(0.5)(x)    \n",
    "    predictions = Dense(12, activation='softmax')(x)\n",
    "    model = Model(inputs=base_model.input, outputs=predictions)\n",
    "    model.compile(loss='categorical_crossentropy', optimizer=optimizers.Adam(lr=learning_rate), metrics=['accuracy'])\n",
    "    model.load_weights(os.path.join('', 'weights.h5'))\n",
    "    model.layers.pop()\n",
    "    model.layers.pop()\n",
    "    \n",
    "    x_train = model.predict_generator(train_generator,verbose = 1,steps = 237)\n",
    "    y_train = train_generator.classes\n",
    "    \n",
    "    x_val = model.predict_generator(validate_generator, verbose=1, steps = 30)\n",
    "    y_val = validate_generator.classes\n",
    "    \n",
    "    x_test = model.predict_generator(test_generator, verbose=1, steps = 30)\n",
    "    y_test = test_generator.classes\n",
    "\n",
    "    return x_train, x_val, x_test, y_train, y_val, y_test "
   ]
  },
  {
   "cell_type": "code",
   "execution_count": 6,
   "metadata": {},
   "outputs": [
    {
     "name": "stdout",
     "output_type": "stream",
     "text": [
      "Found 3790 images belonging to 12 classes.\n",
      "Found 480 images belonging to 12 classes.\n",
      "Found 480 images belonging to 12 classes.\n",
      "237/237 [==============================] - 108s   \n",
      "30/30 [==============================] - 14s    \n",
      "30/30 [==============================] - 13s    \n"
     ]
    }
   ],
   "source": [
    "x_xception_train, x_xception_val, x_exception_test, y_xception_train, y_xception_val, y_xception_test = \\\n",
    "    get_bottleneck_xception(train_path, validate_path, test_path,dim, batch_size)"
   ]
  },
  {
   "cell_type": "code",
   "execution_count": 7,
   "metadata": {},
   "outputs": [
    {
     "name": "stderr",
     "output_type": "stream",
     "text": [
      "/usr/lib/python3.5/importlib/_bootstrap.py:222: RuntimeWarning: numpy.dtype size changed, may indicate binary incompatibility. Expected 96, got 88\n",
      "  return f(*args, **kwds)\n"
     ]
    }
   ],
   "source": [
    "\n",
    "from sklearn.linear_model import LogisticRegression\n",
    "from sklearn.metrics import accuracy_score, classification_report, f1_score"
   ]
  },
  {
   "cell_type": "code",
   "execution_count": 8,
   "metadata": {},
   "outputs": [
    {
     "data": {
      "text/plain": [
       "0.9666666666666667"
      ]
     },
     "execution_count": 8,
     "metadata": {},
     "output_type": "execute_result"
    }
   ],
   "source": [
    "lr = LogisticRegression(multi_class='multinomial', solver='lbfgs')\n",
    "lr.fit(x_xception_train, y_xception_train)\n",
    "lr_pred = lr.predict(x_xception_val)\n",
    "accuracy_score(y_xception_val, lr_pred)"
   ]
  },
  {
   "cell_type": "code",
   "execution_count": null,
   "metadata": {},
   "outputs": [],
   "source": []
  },
  {
   "cell_type": "code",
   "execution_count": 9,
   "metadata": {},
   "outputs": [],
   "source": [
    "from sklearn.svm import SVC\n",
    "svc = SVC(kernel=\"linear\", class_weight=\"balanced\")"
   ]
  },
  {
   "cell_type": "code",
   "execution_count": 10,
   "metadata": {},
   "outputs": [
    {
     "data": {
      "text/plain": [
       "0.96875"
      ]
     },
     "execution_count": 10,
     "metadata": {},
     "output_type": "execute_result"
    }
   ],
   "source": [
    "svc.fit(x_xception_train, y_xception_train)\n",
    "svc_pred = svc.predict(x_xception_val)\n",
    "accuracy_score(y_xception_val, svc_pred)"
   ]
  },
  {
   "cell_type": "code",
   "execution_count": 11,
   "metadata": {},
   "outputs": [],
   "source": [
    "svc_pred = svc.predict(x_exception_test)"
   ]
  },
  {
   "cell_type": "code",
   "execution_count": 12,
   "metadata": {},
   "outputs": [
    {
     "data": {
      "text/plain": [
       "0.9645833333333333"
      ]
     },
     "execution_count": 12,
     "metadata": {},
     "output_type": "execute_result"
    }
   ],
   "source": [
    "accuracy_score(y_xception_test, svc_pred)"
   ]
  },
  {
   "cell_type": "code",
   "execution_count": 80,
   "metadata": {},
   "outputs": [],
   "source": [
    " import xgboost as xgb"
   ]
  },
  {
   "cell_type": "code",
   "execution_count": 81,
   "metadata": {},
   "outputs": [
    {
     "name": "stdout",
     "output_type": "stream",
     "text": [
      "fitting done !!!\n"
     ]
    }
   ],
   "source": [
    "xb = xgb.XGBClassifier()\n",
    "\n",
    "xb.fit(x_xception_train, y_xception_train)\n",
    "\n",
    "print('fitting done !!!')\n"
   ]
  },
  {
   "cell_type": "code",
   "execution_count": 82,
   "metadata": {},
   "outputs": [
    {
     "data": {
      "text/plain": [
       "0.96458333333333335"
      ]
     },
     "execution_count": 82,
     "metadata": {},
     "output_type": "execute_result"
    }
   ],
   "source": [
    "xb.score(x_xception_val,y_xception_val)\n"
   ]
  },
  {
   "cell_type": "code",
   "execution_count": null,
   "metadata": {},
   "outputs": [],
   "source": []
  },
  {
   "cell_type": "code",
   "execution_count": 86,
   "metadata": {},
   "outputs": [
    {
     "data": {
      "image/png": "[encoded data removed]",
      "text/plain": [
       "<matplotlib.figure.Figure at 0x7fd82922eef0>"
      ]
     },
     "metadata": {},
     "output_type": "display_data"
    }
   ],
   "source": [
    "import scikitplot as skplt\n",
    "import matplotlib.pyplot as plt\n",
    "\n",
    "skplt.metrics.plot_confusion_matrix(y_xception_val, lr_pred, normalize=False, figsize=(10, 10))\n",
    "plt.show()"
   ]
  },
  {
   "cell_type": "code",
   "execution_count": 87,
   "metadata": {},
   "outputs": [
    {
     "data": {
      "image/png": "[encoded data removed]",
      "text/plain": [
       "<matplotlib.figure.Figure at 0x7fd829010400>"
      ]
     },
     "metadata": {},
     "output_type": "display_data"
    }
   ],
   "source": [
    "\n",
    "skplt.metrics.plot_confusion_matrix(y_xception_val, svc_pred, normalize=False, figsize=(10, 10))\n",
    "plt.show()"
   ]
  },
  {
   "cell_type": "code",
   "execution_count": 30,
   "metadata": {},
   "outputs": [],
   "source": [
    "def get_bottleneck_resnet(train_path, validate_path, test_path, dim, batch_size):\n",
    "    train_generator = create_generator(train_path, dim, batch_size)\n",
    "    validate_generator = create_generator(validate_path, dim, batch_size)\n",
    "    test_generator = create_generator(test_path, dim, batch_size)\n",
    "\n",
    "    base_model = ResNet50(input_shape=(dim, dim, 3), include_top=False, weights='imagenet', pooling='avg')\n",
    "    x = base_model.output\n",
    "    x = Dense(256, activation='relu')(x)\n",
    "    x = Dropout(0.5)(x)    \n",
    "    predictions = Dense(12, activation='softmax')(x)\n",
    "    model = Model(inputs=base_model.input, outputs=predictions)\n",
    "    model.compile(loss='categorical_crossentropy', optimizer=optimizers.Adam(lr=learning_rate), metrics=['accuracy'])\n",
    "    model.load_weights(os.path.join('', 'weights_resnet.h5'))\n",
    "    model.layers.pop()\n",
    "    model.layers.pop()\n",
    "    \n",
    "    x_train = model.predict_generator(train_generator,verbose = 1,steps = 237)\n",
    "    y_train = train_generator.classes\n",
    "    \n",
    "    x_val = model.predict_generator(validate_generator, verbose=1, steps = 30)\n",
    "    y_val = validate_generator.classes\n",
    "    \n",
    "    x_test = model.predict_generator(test_generator, verbose=1, steps = 30)\n",
    "    y_test = test_generator.classes\n",
    "\n",
    "    return x_train, x_val, x_test, y_train, y_val, y_test "
   ]
  },
  {
   "cell_type": "code",
   "execution_count": 33,
   "metadata": {},
   "outputs": [
    {
     "name": "stdout",
     "output_type": "stream",
     "text": [
      "Found 3790 images belonging to 12 classes.\n",
      "Found 480 images belonging to 12 classes.\n",
      "Found 480 images belonging to 12 classes.\n",
      "237/237 [==============================] - 87s    \n",
      "30/30 [==============================] - 11s    \n",
      "30/30 [==============================] - 11s    \n"
     ]
    }
   ],
   "source": [
    "x_resnet_train, x_resnet_val, x_resnet_test, y_resnet_train, y_resnet_val, y_resnet_test = \\\n",
    "    get_bottleneck_resnet(train_path, validate_path, test_path,dim, batch_size)"
   ]
  },
  {
   "cell_type": "code",
   "execution_count": 34,
   "metadata": {},
   "outputs": [
    {
     "data": {
      "text/plain": [
       "0.9604166666666667"
      ]
     },
     "execution_count": 34,
     "metadata": {},
     "output_type": "execute_result"
    }
   ],
   "source": [
    "lr = LogisticRegression(multi_class='multinomial', solver='lbfgs')\n",
    "lr.fit(x_resnet_train, y_resnet_train)\n",
    "lr_pred_resnet = lr.predict(x_resnet_val)\n",
    "accuracy_score(y_resnet_val, lr_pred_resnet)"
   ]
  },
  {
   "cell_type": "code",
   "execution_count": 46,
   "metadata": {},
   "outputs": [
    {
     "data": {
      "text/plain": [
       "0.9604166666666667"
      ]
     },
     "execution_count": 46,
     "metadata": {},
     "output_type": "execute_result"
    }
   ],
   "source": [
    "svc = SVC(kernel=\"linear\", class_weight=\"balanced\")\n",
    "svc.fit(x_resnet_train, y_resnet_train)\n",
    "svc_pred_resnet = svc.predict(x_resnet_val)\n",
    "accuracy_score(y_resnet_val, svc_pred_resnet)"
   ]
  },
  {
   "cell_type": "code",
   "execution_count": 47,
   "metadata": {},
   "outputs": [
    {
     "data": {
      "text/plain": [
       "0.96458333333333335"
      ]
     },
     "execution_count": 47,
     "metadata": {},
     "output_type": "execute_result"
    }
   ],
   "source": [
    "xb = xgb.XGBClassifier()\n",
    "xb.fit(x_xception_train, y_xception_train)\n",
    "\n",
    "xb.score(x_xception_val,y_xception_val)"
   ]
  },
  {
   "cell_type": "code",
   "execution_count": 41,
   "metadata": {},
   "outputs": [],
   "source": [
    "def get_bottleneck_vgg16(train_path, validate_path, test_path, dim, batch_size):\n",
    "    train_generator = create_generator(train_path, dim, batch_size)\n",
    "    validate_generator = create_generator(validate_path, dim, batch_size)\n",
    "    test_generator = create_generator(test_path, dim, batch_size)\n",
    "\n",
    "    base_model = VGG16(input_shape=(dim, dim, 3), include_top=False, weights='imagenet', pooling='avg')\n",
    "    x = base_model.output\n",
    "    x = Dense(256, activation='relu')(x)\n",
    "    x = Dropout(0.5)(x)    \n",
    "    predictions = Dense(12, activation='softmax')(x)\n",
    "    model = Model(inputs=base_model.input, outputs=predictions)\n",
    "    model.compile(loss='categorical_crossentropy', optimizer=optimizers.Adam(lr=learning_rate), metrics=['accuracy'])\n",
    "    model.load_weights(os.path.join('', 'weights_vgg16.h5'))\n",
    "    model.layers.pop()\n",
    "    model.layers.pop()\n",
    "    \n",
    "    x_train = model.predict_generator(train_generator,verbose = 1,steps = 237)\n",
    "    y_train = train_generator.classes\n",
    "    \n",
    "    x_val = model.predict_generator(validate_generator, verbose=1, steps = 30)\n",
    "    y_val = validate_generator.classes\n",
    "    \n",
    "    x_test = model.predict_generator(test_generator, verbose=1, steps = 30)\n",
    "    y_test = test_generator.classes\n",
    "\n",
    "    return x_train, x_val, x_test, y_train, y_val, y_test "
   ]
  },
  {
   "cell_type": "code",
   "execution_count": 42,
   "metadata": {},
   "outputs": [
    {
     "name": "stdout",
     "output_type": "stream",
     "text": [
      "Found 3790 images belonging to 12 classes.\n",
      "Found 480 images belonging to 12 classes.\n",
      "Found 480 images belonging to 12 classes.\n",
      "237/237 [==============================] - 143s   \n",
      "30/30 [==============================] - 18s    \n",
      "30/30 [==============================] - 17s    \n"
     ]
    }
   ],
   "source": [
    "x_vgg16_train, x_vgg16_val, x_vgg16_test, y_vgg16_train, y_vgg16_val, y_vgg16_test = \\\n",
    "    get_bottleneck_vgg16(train_path, validate_path, test_path,dim, batch_size)"
   ]
  },
  {
   "cell_type": "code",
   "execution_count": 43,
   "metadata": {},
   "outputs": [
    {
     "data": {
      "text/plain": [
       "0.95416666666666672"
      ]
     },
     "execution_count": 43,
     "metadata": {},
     "output_type": "execute_result"
    }
   ],
   "source": [
    "lr = LogisticRegression(multi_class='multinomial', solver='lbfgs')\n",
    "lr.fit(x_vgg16_train, y_vgg16_train)\n",
    "lr_pred_vgg16 = lr.predict(x_vgg16_val)\n",
    "accuracy_score(y_vgg16_val, lr_pred_vgg16)"
   ]
  },
  {
   "cell_type": "code",
   "execution_count": 51,
   "metadata": {},
   "outputs": [
    {
     "data": {
      "text/plain": [
       "0.94791666666666663"
      ]
     },
     "execution_count": 51,
     "metadata": {},
     "output_type": "execute_result"
    }
   ],
   "source": [
    "svc = SVC(kernel=\"linear\", class_weight=\"balanced\")\n",
    "svc.fit(x_vgg16_train, y_vgg16_train)\n",
    "svc_pred_vgg16 = svc.predict(x_vgg16_val)\n",
    "accuracy_score(y_vgg16_val, svc_pred_vgg16)"
   ]
  },
  {
   "cell_type": "code",
   "execution_count": 49,
   "metadata": {},
   "outputs": [
    {
     "data": {
      "text/plain": [
       "0.94791666666666663"
      ]
     },
     "execution_count": 49,
     "metadata": {},
     "output_type": "execute_result"
    }
   ],
   "source": [
    "xb = xgb.XGBClassifier()\n",
    "xb.fit(x_vgg16_train, y_vgg16_train)\n",
    "xb.score(x_vgg16_val,y_vgg16_val)"
   ]
  },
  {
   "cell_type": "code",
   "execution_count": 54,
   "metadata": {},
   "outputs": [],
   "source": [
    "x_train = np.hstack([x_vgg16_train, x_xception_train, x_resnet_train])\n",
    "x_validation = np.hstack([x_vgg16_val, x_xception_val, x_resnet_val])\n",
    "x_test = np.hstack([x_vgg16_test, x_exception_test, x_resnet_test])"
   ]
  },
  {
   "cell_type": "code",
   "execution_count": 59,
   "metadata": {},
   "outputs": [
    {
     "data": {
      "text/plain": [
       "0.96250000000000002"
      ]
     },
     "execution_count": 59,
     "metadata": {},
     "output_type": "execute_result"
    }
   ],
   "source": [
    "lr = LogisticRegression(multi_class='multinomial', solver='lbfgs')\n",
    "lr.fit(x_train, y_vgg16_train)\n",
    "lr_pred_vgg16 = lr.predict(x_validation)\n",
    "accuracy_score(y_vgg16_val, lr_pred_vgg16)\n"
   ]
  },
  {
   "cell_type": "code",
   "execution_count": 60,
   "metadata": {},
   "outputs": [
    {
     "data": {
      "text/plain": [
       "0.96250000000000002"
      ]
     },
     "execution_count": 60,
     "metadata": {},
     "output_type": "execute_result"
    }
   ],
   "source": [
    "svc = SVC(kernel=\"linear\", class_weight=\"balanced\")\n",
    "svc.fit(x_train, y_vgg16_train)\n",
    "svc_pred_vgg16 = svc.predict(x_validation)\n",
    "accuracy_score(y_vgg16_val, svc_pred_vgg16)"
   ]
  },
  {
   "cell_type": "code",
   "execution_count": null,
   "metadata": {},
   "outputs": [],
   "source": [
    "\n"
   ]
  },
  {
   "cell_type": "code",
   "execution_count": null,
   "metadata": {},
   "outputs": [],
   "source": [
    "\n"
   ]
  },
  {
   "cell_type": "code",
   "execution_count": 68,
   "metadata": {},
   "outputs": [
    {
     "data": {
      "image/png": "[encoded data removed]",
      "text/plain": [
       "<matplotlib.figure.Figure at 0x7fd82cd80208>"
      ]
     },
     "metadata": {},
     "output_type": "display_data"
    }
   ],
   "source": [
    "import scikitplot as skplt\n",
    "import matplotlib.pyplot as plt\n",
    "\n",
    "skplt.metrics.plot_confusion_matrix(y_vgg16_val,lr_pred_vgg16, normalize=False, figsize=(10, 10))\n",
    "plt.show()"
   ]
  },
  {
   "cell_type": "code",
   "execution_count": null,
   "metadata": {},
   "outputs": [],
   "source": []
  },
  {
   "cell_type": "code",
   "execution_count": null,
   "metadata": {},
   "outputs": [],
   "source": []
  }
 ],
 "metadata": {
  "kernelspec": {
   "display_name": "Python 3",
   "language": "python",
   "name": "python3"
  },
  "language_info": {
   "codemirror_mode": {
    "name": "ipython",
    "version": 3
   },
   "file_extension": ".py",
   "mimetype": "text/x-python",
   "name": "python",
   "nbconvert_exporter": "python",
   "pygments_lexer": "ipython3",
   "version": "3.5.2"
  }
 },
 "nbformat": 4,
 "nbformat_minor": 2
}
